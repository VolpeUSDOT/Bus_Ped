{
 "cells": [
  {
   "cell_type": "markdown",
   "metadata": {},
   "source": [
    "## Step 3: Add route stops\n",
    "\n",
    "Follows Step 2, `02_add_vehicle_assignments_to_db.ipynb`\n",
    "\n",
    "Followed by Step 4, `04_add_stop_times_to_db.ipynb`\n",
    "\n",
    "**Run successfully for `ituran_synchromatics_data.sqlite` in Data Integration - All Months**\n",
    "\n",
    "This script creates or replaces a table in the database at the supplied\n",
    "path that contains the set of stops for each of five Downtown DASH routes. The\n",
    "source Excel files are hand-crafted and assumed to be perfect."
   ]
  },
  {
   "cell_type": "code",
   "execution_count": 1,
   "metadata": {},
   "outputs": [],
   "source": [
    "import argparse\n",
    "import numpy as np\n",
    "from os import path, listdir\n",
    "import pandas as pd\n",
    "from sqlalchemy import create_engine"
   ]
  },
  {
   "cell_type": "code",
   "execution_count": 2,
   "metadata": {},
   "outputs": [],
   "source": [
    "# Converted from argparse for use in ipynb\n",
    "# parser = argparse.ArgumentParser()\n",
    "\n",
    "db_path='ituran_synchromatics_data.sqlite'\n",
    "route_stop_table_name='route_stop'\n",
    "\n",
    "project_root_dir = r'\\\\vntscex.local\\DFS\\3BC-Share$_Mobileye_Data\\Data\\Data Integration - All Months' \n",
    "data_root_dir = path.join(project_root_dir, 'route_stops')\n",
    "# was: data_root_dir='route_stops'\n"
   ]
  },
  {
   "cell_type": "code",
   "execution_count": 3,
   "metadata": {},
   "outputs": [],
   "source": [
    "def read_route_stop_data(dir_path):\n",
    "  route_stop_data = []\n",
    "\n",
    "  for file_name in listdir(dir_path):\n",
    "    # we assume that all files exist at the root\n",
    "    file_path = path.join(dir_path, file_name)\n",
    "\n",
    "    # pandas treats strings as objects\n",
    "    df = pd.read_excel(file_path, dtype={\n",
    "      'route_id': np.uint32, 'route_name': object, 'stop_id': np.uint32,\n",
    "      'stop_name': object, 'latitude': np.float64, 'longitude': np.float64,\n",
    "      'heading': object, 'sequence': np.uint8, 'is_terminal': np.bool_})\n",
    "    route_stop_data.append(df)\n",
    "\n",
    "  route_stop_data = pd.concat(\n",
    "    route_stop_data, ignore_index=True, verify_integrity=True)\n",
    "\n",
    "  route_stop_data.set_index(\n",
    "    pd.RangeIndex(route_stop_data.shape[0]), inplace=True)\n",
    "\n",
    "  return route_stop_data"
   ]
  },
  {
   "cell_type": "code",
   "execution_count": 4,
   "metadata": {},
   "outputs": [],
   "source": [
    "#db_path = path.join('sqlite:///', db_path)\n",
    "db_path = 'sqlite:///' + path.join(project_root_dir, 'ituran_synchromatics_data.sqlite')\n",
    "\n",
    "db = create_engine(db_path)\n",
    "\n",
    "route_stop_data = read_route_stop_data(data_root_dir)\n",
    "\n",
    "  # print(route_stop_data.head(2))\n",
    "  # print(route_stop_data.dtypes)"
   ]
  },
  {
   "cell_type": "code",
   "execution_count": 5,
   "metadata": {},
   "outputs": [
    {
     "data": {
      "text/plain": [
       "array([ 296,  297,  298,  408,  409, 7690, 8435, 9212, 9270, 9736, 9960],\n",
       "      dtype=uint64)"
      ]
     },
     "execution_count": 5,
     "metadata": {},
     "output_type": "execute_result"
    }
   ],
   "source": [
    "route_stop_data.head()\n",
    "\n",
    "route_stop_data['route_id'].unique() # was missing 298!! Problem with file, now replaced\n"
   ]
  },
  {
   "cell_type": "code",
   "execution_count": 6,
   "metadata": {},
   "outputs": [],
   "source": [
    "  # poor performance has been observed when adding more than one million records\n",
    "  # at a time\n",
    "route_stop_data.to_sql(\n",
    "  route_stop_table_name, db, if_exists='append',\n",
    "  chunksize=1000000, index=False)"
   ]
  },
  {
   "cell_type": "code",
   "execution_count": null,
   "metadata": {},
   "outputs": [],
   "source": []
  }
 ],
 "metadata": {
  "kernelspec": {
   "display_name": "Python 3",
   "language": "python",
   "name": "python3"
  },
  "language_info": {
   "codemirror_mode": {
    "name": "ipython",
    "version": 3
   },
   "file_extension": ".py",
   "mimetype": "text/x-python",
   "name": "python",
   "nbconvert_exporter": "python",
   "pygments_lexer": "ipython3",
   "version": "3.7.1"
  }
 },
 "nbformat": 4,
 "nbformat_minor": 2
}
