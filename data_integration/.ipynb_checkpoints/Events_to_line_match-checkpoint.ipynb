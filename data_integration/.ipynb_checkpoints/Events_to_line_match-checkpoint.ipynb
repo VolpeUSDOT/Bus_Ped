{
 "cells": [
  {
   "cell_type": "markdown",
   "metadata": {},
   "source": [
    "## Testing event to line matching with Python\n",
    "Goal: replicate process in Hotspot_DASH_Integrated.Rmd as close as possible first in an .ipynb and then as .py script for easier collaboration\n",
    "\n",
    "Will need to look at geopandas to replicate the plotting of events and LADOT route shapefiles, and for calculation of distances between points and lines."
   ]
  },
  {
   "cell_type": "code",
   "execution_count": 4,
   "metadata": {},
   "outputs": [],
   "source": [
    "import sqlite3\n",
    "import os.path\n",
    "import pandas as pd\n",
    "import IPython\n",
    "# print(IPython.sys_info())\n",
    "# %matplot inline\n",
    "\n",
    "db_path = os.path.join(r'\\\\vntscex.local\\DFS\\3BC-Share$_Mobileye_Data\\Data\\Data Integration',\n",
    "                           'ituran_synchromatics_data.sqlite')\n",
    "table = 'hotspot_data_product'\n",
    "conn = sqlite3.connect(db_path)"
   ]
  },
  {
   "cell_type": "code",
   "execution_count": 5,
   "metadata": {},
   "outputs": [
    {
     "name": "stdout",
     "output_type": "stream",
     "text": [
      "hotspot_data_product\n",
      "\n",
      "Dimensions:(41683, 10)\n",
      "           route_id     driver_id    vehicle_id    bus_number      latitude  \\\n",
      "count  41683.000000  41683.000000  41683.000000  41683.000000  41683.000000   \n",
      "mean     296.177338   2838.803061   1530.256100  15298.706451     34.054432   \n",
      "std        4.453194   2346.271637    303.531321    252.353588      0.005446   \n",
      "min      296.000000    704.000000    324.000000  12311.000000     34.018331   \n",
      "50%      296.000000   2014.000000   1614.000000  15327.000000     34.053975   \n",
      "max      408.000000  11959.000000   1642.000000  15346.000000     34.067246   \n",
      "\n",
      "          longitude  \n",
      "count  41683.000000  \n",
      "mean    -118.247485  \n",
      "std        0.008016  \n",
      "min     -118.291508  \n",
      "50%     -118.248653  \n",
      "max     -118.231396  \n"
     ]
    }
   ],
   "source": [
    "cur = conn.cursor()\n",
    "df = pd.read_sql_query(\"SELECT * FROM \" + table, conn)\n",
    "\n",
    "summary = df.describe(percentiles=[])\n",
    "print(table + '\\n')\n",
    "print(\"Dimensions:\" + str(df.shape))\n",
    "print(summary)\n"
   ]
  },
  {
   "cell_type": "code",
   "execution_count": null,
   "metadata": {},
   "outputs": [],
   "source": []
  }
 ],
 "metadata": {
  "kernelspec": {
   "display_name": "Python 3",
   "language": "python",
   "name": "python3"
  },
  "language_info": {
   "codemirror_mode": {
    "name": "ipython",
    "version": 3
   },
   "file_extension": ".py",
   "mimetype": "text/x-python",
   "name": "python",
   "nbconvert_exporter": "python",
   "pygments_lexer": "ipython3",
   "version": "3.6.5"
  }
 },
 "nbformat": 4,
 "nbformat_minor": 1
}
